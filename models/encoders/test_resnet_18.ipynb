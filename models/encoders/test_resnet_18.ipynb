{
 "cells": [
  {
   "cell_type": "code",
   "execution_count": 1,
   "metadata": {
    "collapsed": true
   },
   "outputs": [],
   "source": [
    "import tensorflow as tf\n",
    "import numpy as np\n",
    "import pickle\n",
    "import os\n",
    "import torchfile\n"
   ]
  },
  {
   "cell_type": "code",
   "execution_count": 2,
   "metadata": {},
   "outputs": [],
   "source": [
    "# init the graph\n",
    "tf.reset_default_graph()\n",
    "sess = tf.Session()\n",
    "init = tf.group(tf.global_variables_initializer(), tf.local_variables_initializer())\n",
    "\n",
    "# Set some parameters\n",
    "x_input = tf.placeholder(tf.float32, [1, 224, 224, 3])\n",
    "num_classes = 1000\n",
    "pretrained_path = 'x'\n",
    "train_flag = tf.placeholder(tf.bool)\n",
    "weight_decay = 5e-4\n"
   ]
  },
  {
   "cell_type": "code",
   "execution_count": 3,
   "metadata": {},
   "outputs": [
    {
     "name": "stdout",
     "output_type": "stream",
     "text": [
      "Building the RESNET..\nBuilding unit: conv1\nconv1-shape: [1, 56, 56, 64]\nBuilding residual unit: conv2_1\n"
     ]
    },
    {
     "name": "stdout",
     "output_type": "stream",
     "text": [
      "residual-unit-conv2_1-shape: [1, 56, 56, 64]\nBuilding residual unit: conv2_2\nresidual-unit-conv2_2-shape: [1, 56, 56, 64]\nBuilding residual unit: conv3_1\n"
     ]
    },
    {
     "name": "stdout",
     "output_type": "stream",
     "text": [
      "residual-unit-conv3_1-shape: [1, 28, 28, 128]\nBuilding residual unit: conv3_2\nresidual-unit-conv3_2-shape: [1, 28, 28, 128]\nBuilding residual unit: conv4_1\n"
     ]
    },
    {
     "name": "stdout",
     "output_type": "stream",
     "text": [
      "residual-unit-conv4_1-shape: [1, 14, 14, 256]\nBuilding residual unit: conv4_2\nresidual-unit-conv4_2-shape: [1, 14, 14, 256]\nBuilding residual unit: conv5_1\n"
     ]
    },
    {
     "name": "stdout",
     "output_type": "stream",
     "text": [
      "residual-unit-conv5_1-shape: [1, 7, 7, 512]\nBuilding residual unit: conv5_2\nresidual-unit-conv5_2-shape: [1, 7, 7, 512]\nBuilding unit: logits\nlogits-shape: [1, 1000]\n\nEncoder RESNET is built successfully\n\n\n"
     ]
    }
   ],
   "source": [
    "from models.encoders.resnet_18 import RESNET18\n",
    "\n",
    "\n",
    "resnet = RESNET18(x_input, num_classes, pretrained_path, train_flag, weight_decay)\n",
    "resnet.build()\n",
    "\n"
   ]
  },
  {
   "cell_type": "code",
   "execution_count": 5,
   "metadata": {},
   "outputs": [
    {
     "name": "stdout",
     "output_type": "stream",
     "text": [
      "printing the names of all variables and their shapes\nconv1_x/conv1/weights:0:(7, 7, 3, 64)\nconv1_x/conv1/biases:0:(64,)\nconv1_x/bn1/beta:0:(64,)\nconv1_x/bn1/gamma:0:(64,)\nconv2_x/conv2_1/conv_1/weights:0:(3, 3, 64, 64)\nconv2_x/conv2_1/conv_1/biases:0:(64,)\nconv2_x/conv2_1/bn_1/beta:0:(64,)\nconv2_x/conv2_1/bn_1/gamma:0:(64,)\nconv2_x/conv2_1/conv_2/weights:0:(3, 3, 64, 64)\nconv2_x/conv2_1/conv_2/biases:0:(64,)\nconv2_x/conv2_1/bn_2/beta:0:(64,)\nconv2_x/conv2_1/bn_2/gamma:0:(64,)\nconv2_x/conv2_2/conv_1/weights:0:(3, 3, 64, 64)\nconv2_x/conv2_2/conv_1/biases:0:(64,)\nconv2_x/conv2_2/bn_1/beta:0:(64,)\nconv2_x/conv2_2/bn_1/gamma:0:(64,)\nconv2_x/conv2_2/conv_2/weights:0:(3, 3, 64, 64)\nconv2_x/conv2_2/conv_2/biases:0:(64,)\nconv2_x/conv2_2/bn_2/beta:0:(64,)\nconv2_x/conv2_2/bn_2/gamma:0:(64,)\nconv3_x/conv3_1/shortcut_conv/weights:0:(1, 1, 64, 128)\nconv3_x/conv3_1/shortcut_conv/biases:0:(128,)\nconv3_x/conv3_1/conv_1/weights:0:(3, 3, 64, 128)\nconv3_x/conv3_1/conv_1/biases:0:(128,)\nconv3_x/conv3_1/bn_1/beta:0:(128,)\nconv3_x/conv3_1/bn_1/gamma:0:(128,)\nconv3_x/conv3_1/conv_2/weights:0:(3, 3, 128, 128)\nconv3_x/conv3_1/conv_2/biases:0:(128,)\nconv3_x/conv3_1/bn_2/beta:0:(128,)\nconv3_x/conv3_1/bn_2/gamma:0:(128,)\nconv3_x/conv3_2/conv_1/weights:0:(3, 3, 128, 128)\nconv3_x/conv3_2/conv_1/biases:0:(128,)\nconv3_x/conv3_2/bn_1/beta:0:(128,)\nconv3_x/conv3_2/bn_1/gamma:0:(128,)\nconv3_x/conv3_2/conv_2/weights:0:(3, 3, 128, 128)\nconv3_x/conv3_2/conv_2/biases:0:(128,)\nconv3_x/conv3_2/bn_2/beta:0:(128,)\nconv3_x/conv3_2/bn_2/gamma:0:(128,)\nconv4_x/conv4_1/shortcut_conv/weights:0:(1, 1, 128, 256)\nconv4_x/conv4_1/shortcut_conv/biases:0:(256,)\nconv4_x/conv4_1/conv_1/weights:0:(3, 3, 128, 256)\nconv4_x/conv4_1/conv_1/biases:0:(256,)\nconv4_x/conv4_1/bn_1/beta:0:(256,)\nconv4_x/conv4_1/bn_1/gamma:0:(256,)\nconv4_x/conv4_1/conv_2/weights:0:(3, 3, 256, 256)\nconv4_x/conv4_1/conv_2/biases:0:(256,)\nconv4_x/conv4_1/bn_2/beta:0:(256,)\nconv4_x/conv4_1/bn_2/gamma:0:(256,)\nconv4_x/conv4_2/conv_1/weights:0:(3, 3, 256, 256)\nconv4_x/conv4_2/conv_1/biases:0:(256,)\nconv4_x/conv4_2/bn_1/beta:0:(256,)\nconv4_x/conv4_2/bn_1/gamma:0:(256,)\nconv4_x/conv4_2/conv_2/weights:0:(3, 3, 256, 256)\nconv4_x/conv4_2/conv_2/biases:0:(256,)\nconv4_x/conv4_2/bn_2/beta:0:(256,)\nconv4_x/conv4_2/bn_2/gamma:0:(256,)\nconv5_x/conv5_1/shortcut_conv/weights:0:(1, 1, 256, 512)\nconv5_x/conv5_1/shortcut_conv/biases:0:(512,)\nconv5_x/conv5_1/conv_1/weights:0:(3, 3, 256, 512)\nconv5_x/conv5_1/conv_1/biases:0:(512,)\nconv5_x/conv5_1/bn_1/beta:0:(512,)\nconv5_x/conv5_1/bn_1/gamma:0:(512,)\nconv5_x/conv5_1/conv_2/weights:0:(3, 3, 512, 512)\nconv5_x/conv5_1/conv_2/biases:0:(512,)\nconv5_x/conv5_1/bn_2/beta:0:(512,)\nconv5_x/conv5_1/bn_2/gamma:0:(512,)\nconv5_x/conv5_2/conv_1/weights:0:(3, 3, 512, 512)\nconv5_x/conv5_2/conv_1/biases:0:(512,)\nconv5_x/conv5_2/bn_1/beta:0:(512,)\nconv5_x/conv5_2/bn_1/gamma:0:(512,)\nconv5_x/conv5_2/conv_2/weights:0:(3, 3, 512, 512)\nconv5_x/conv5_2/conv_2/biases:0:(512,)\nconv5_x/conv5_2/bn_2/beta:0:(512,)\nconv5_x/conv5_2/bn_2/gamma:0:(512,)\nlogits/logits_dense/weights:0:(512, 1000)\nlogits/logits_dense/biases:0:(1000,)\n"
     ]
    }
   ],
   "source": [
    "sess.run(init)\n",
    "\n",
    "print('printing the names of all variables and their shapes')\n",
    "all_vars = tf.trainable_variables()\n",
    "for v in all_vars:\n",
    "    print(v.name + \":\" + str(v.shape))\n"
   ]
  },
  {
   "cell_type": "code",
   "execution_count": null,
   "metadata": {},
   "outputs": [],
   "source": []
  }
 ],
 "metadata": {
  "kernelspec": {
   "display_name": "Python 2",
   "language": "python",
   "name": "python2"
  },
  "language_info": {
   "codemirror_mode": {
    "name": "ipython",
    "version": 2
   },
   "file_extension": ".py",
   "mimetype": "text/x-python",
   "name": "python",
   "nbconvert_exporter": "python",
   "pygments_lexer": "ipython2",
   "version": "2.7.6"
  }
 },
 "nbformat": 4,
 "nbformat_minor": 0
}
